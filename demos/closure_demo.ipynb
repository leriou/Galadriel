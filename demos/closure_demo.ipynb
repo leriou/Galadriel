{
 "cells": [
  {
   "cell_type": "code",
   "execution_count": 2,
   "metadata": {},
   "outputs": [
    {
     "name": "stdout",
     "output_type": "stream",
     "text": [
      "3, 4\n",
      "7\n",
      "63245986\n"
     ]
    }
   ],
   "source": [
    "def log(fn):\n",
    "    def wrapper(x,y):\n",
    "        print(\"%s, %s\" % (x, y))\n",
    "        return fn(x, y)\n",
    "    return wrapper\n",
    "\n",
    "@log\n",
    "def t(a, b):\n",
    "    return a + b\n",
    "\n",
    "print(t(3, 4))\n",
    "\n",
    "def fib(n) -> int:\n",
    "    if n == 1:\n",
    "        return 0\n",
    "    if n == 2:\n",
    "        return 1\n",
    "    return fib(n-2)+ fib(n-1)\n",
    "\n",
    "print(fib(40))\n",
    "    "
   ]
  },
  {
   "cell_type": "code",
   "execution_count": null,
   "metadata": {},
   "outputs": [],
   "source": []
  }
 ],
 "metadata": {
  "kernelspec": {
   "display_name": "Python 3",
   "language": "python",
   "name": "python3"
  },
  "language_info": {
   "codemirror_mode": {
    "name": "ipython",
    "version": 3
   },
   "file_extension": ".py",
   "mimetype": "text/x-python",
   "name": "python",
   "nbconvert_exporter": "python",
   "pygments_lexer": "ipython3",
   "version": "3.8.4"
  },
  "widgets": {
   "application/vnd.jupyter.widget-state+json": {
    "state": {},
    "version_major": 2,
    "version_minor": 0
   }
  }
 },
 "nbformat": 4,
 "nbformat_minor": 4
}
