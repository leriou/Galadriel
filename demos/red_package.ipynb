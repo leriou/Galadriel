{
 "cells": [
  {
   "cell_type": "code",
   "execution_count": 2,
   "metadata": {},
   "outputs": [
    {
     "name": "stdout",
     "output_type": "stream",
     "text": [
      "[19.49, 14.32, 13.62, 35.45, 17.12]\n"
     ]
    }
   ],
   "source": [
    "import random\n",
    "\n",
    "def gen_red_package(amount, num, min_size, max_size) -> [float]:\n",
    "    amount = amount * 100\n",
    "    res = [0, amount]\n",
    "    for i in range(0, num-1):\n",
    "        loop = True\n",
    "        while loop:\n",
    "            r = random.Random().randint(0, amount)\n",
    "            loop = not is_valid(res, r, min_size * 100, max_size * 100)\n",
    "    packages = []\n",
    "    for j in range(0, len(res) - 1):\n",
    "        packages.append((res[j+1] - res[j])/100)\n",
    "    return packages\n",
    "\n",
    "def is_valid(arr, value, min_size, max_size) -> bool:\n",
    "    if arr.__contains__(value):\n",
    "        return False\n",
    "    arr.append(value)\n",
    "    arr.sort()\n",
    "    curr = arr.index(value)\n",
    "    l = arr[max(0, curr - 1)]\n",
    "    r = arr[min(curr + 1, len(arr) - 1)]\n",
    "    dl = value - l\n",
    "    dr = r - value\n",
    "    if dl >= min_size and dr >= min_size and dl <= max_size and dr <= max_size :\n",
    "        return True\n",
    "    arr.remove(value)\n",
    "    return False\n",
    "\n",
    "print(gen_red_package(100, 5, 11, 90))"
   ]
  },
  {
   "cell_type": "code",
   "execution_count": null,
   "metadata": {},
   "outputs": [],
   "source": [
    "\n",
    "\n",
    "a = [1,2,3]"
   ]
  }
 ],
 "metadata": {
  "kernelspec": {
   "display_name": "Python 3",
   "language": "python",
   "name": "python3"
  },
  "language_info": {
   "codemirror_mode": {
    "name": "ipython",
    "version": 3
   },
   "file_extension": ".py",
   "mimetype": "text/x-python",
   "name": "python",
   "nbconvert_exporter": "python",
   "pygments_lexer": "ipython3",
   "version": "3.8.4"
  },
  "widgets": {
   "application/vnd.jupyter.widget-state+json": {
    "state": {},
    "version_major": 2,
    "version_minor": 0
   }
  }
 },
 "nbformat": 4,
 "nbformat_minor": 4
}
