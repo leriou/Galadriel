{
 "cells": [
  {
   "cell_type": "code",
   "execution_count": null,
   "metadata": {},
   "outputs": [],
   "source": [
    "import math\n",
    "import time\n",
    "\n",
    "\n",
    "class Calculator:\n",
    "\n",
    "    def __init__(self):\n",
    "        self.num = 10\n",
    "        self.a = 1\n",
    "        self.res = 0\n",
    "\n",
    "    def getPi(self):\n",
    "        for n in range(1, self.num):\n",
    "            m = 1 / (1 + 2 * n)\n",
    "            if n % 2 == 0:\n",
    "                self.a = self.a + m\n",
    "            else:\n",
    "                self.a = self.a - m\n",
    "        return self.a * 4\n",
    "\n",
    "    def getE(self):\n",
    "        for n in range(0, self.num):\n",
    "            self.res = self.res + 1 / math.factorial(n)\n",
    "        return self.res\n",
    "\n",
    "    def getAge(self):\n",
    "        now = time.time()\n",
    "        born_stmp = time.mktime((1993, 1, 29, 23, 0, 0, 0, 0, 0))\n",
    "        age = (now - born_stmp) / (365 * 24 * 3600)\n",
    "        return age\n",
    "\n",
    "\n",
    "if __name__ == \"__main__\":\n",
    "    c = Calculator()\n",
    "    print(\"age: %f \" % c.getAge())\n",
    "    print(\"e为: %f \" % c.getE())\n",
    "    print(\"pi等于: %f \" % c.getPi())\n"
   ]
  }
 ],
 "metadata": {
  "kernelspec": {
   "display_name": "Python 3.8.5 64-bit",
   "language": "python",
   "name": "python38564bit0059ef4a018941ef91eba633403c408b"
  },
  "language_info": {
   "codemirror_mode": {
    "name": "ipython",
    "version": 3
   },
   "file_extension": ".py",
   "mimetype": "text/x-python",
   "name": "python",
   "nbconvert_exporter": "python",
   "pygments_lexer": "ipython3",
   "version": "3.8.5"
  }
 },
 "nbformat": 4,
 "nbformat_minor": 4
}
